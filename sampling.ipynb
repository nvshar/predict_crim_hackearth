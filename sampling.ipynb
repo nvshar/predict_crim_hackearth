{
 "cells": [
  {
   "cell_type": "code",
   "execution_count": null,
   "metadata": {},
   "outputs": [],
   "source": [
    "df_min=df[df.Criminal==1]\n",
    "from sklearn.utils import resample\n",
    "df_min_upsam = resample(df_min, replace=True,     # sample with replacement\n",
    "                                 n_samples=42543,    # to match majority class\n",
    "                                 random_state=123)\n",
    "df_maj=df[df.Criminal==0]\n",
    "df_upsampled = pd.concat([df_maj, df_min_upsam])\n",
    "df_fin=df_upsampled.sample(frac=1)\n",
    "df_train=df_fin.drop(columns='PERID')\n",
    "df_train\n",
    "X_train=df_train.iloc[:,0:70]\n",
    "X_tra=X_train\n",
    "for feature_name in X_train.columns:\n",
    "        max_value = X_train[feature_name].max()\n",
    "        min_value = X_train[feature_name].min()\n",
    "        X_tra[feature_name] = (X_train[feature_name] - min_value) / (max_value - min_value)\n",
    "X_tra\n",
    "y=df_fin.iloc[:,-1]\n",
    "from keras.utils import np_utils\n",
    "y_train= np_utils.to_categorical(y,num_classes=2)\n",
    "\n",
    "kernel_initializer='random_uniform'"
   ]
  }
 ],
 "metadata": {
  "kernelspec": {
   "display_name": "Python 2",
   "language": "python",
   "name": "python2"
  },
  "language_info": {
   "codemirror_mode": {
    "name": "ipython",
    "version": 2
   },
   "file_extension": ".py",
   "mimetype": "text/x-python",
   "name": "python",
   "nbconvert_exporter": "python",
   "pygments_lexer": "ipython2",
   "version": "2.7.14"
  }
 },
 "nbformat": 4,
 "nbformat_minor": 2
}
