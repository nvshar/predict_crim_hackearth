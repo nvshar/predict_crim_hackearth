{
 "cells": [
  {
   "cell_type": "code",
   "execution_count": 1,
   "metadata": {},
   "outputs": [],
   "source": [
    "import pandas as pd\n",
    "import numpy as np\n",
    "df=pd.read_csv('criminal_train.csv')\n",
    "#df.head()\n",
    "from sklearn.preprocessing import StandardScaler\n",
    "scaler = StandardScaler()\n",
    "scaler.fit(df.drop(['Criminal','PERID'],axis=1))\n",
    "scaled_features = scaler.transform(df.drop(['Criminal','PERID'],axis=1))\n",
    "X_train = pd.DataFrame(scaled_features,columns=df.columns[1:-1])\n",
    "y=df.iloc[:,-1]\n"
   ]
  },
  {
   "cell_type": "markdown",
   "metadata": {},
   "source": [
    "# PCA"
   ]
  },
  {
   "cell_type": "code",
   "execution_count": 2,
   "metadata": {},
   "outputs": [],
   "source": [
    "from sklearn.decomposition import PCA"
   ]
  },
  {
   "cell_type": "code",
   "execution_count": 29,
   "metadata": {},
   "outputs": [],
   "source": [
    "pca = PCA(n_components=48)\n",
    "pca.fit(X_train)\n",
    "x_pca = pca.transform(X_train)"
   ]
  },
  {
   "cell_type": "markdown",
   "metadata": {},
   "source": [
    "# Training"
   ]
  },
  {
   "cell_type": "code",
   "execution_count": 30,
   "metadata": {},
   "outputs": [],
   "source": [
    "from keras.models import Sequential\n",
    "from keras.layers import Dense ,Dropout,LSTM"
   ]
  },
  {
   "cell_type": "code",
   "execution_count": 31,
   "metadata": {},
   "outputs": [],
   "source": [
    "model = Sequential()\n",
    "\n",
    "model.add(Dense(48, input_dim=48,activation='relu'))\n",
    "model.add(Dense(32,activation='relu'))\n",
    "model.add(Dense(16, activation='relu'))\n",
    "model.add(Dense(8, activation='relu'))\n",
    "model.add(Dense(1, activation='sigmoid'))"
   ]
  },
  {
   "cell_type": "code",
   "execution_count": 32,
   "metadata": {},
   "outputs": [],
   "source": [
    "model.compile(loss='binary_crossentropy', optimizer='adam', metrics=['accuracy'])"
   ]
  },
  {
   "cell_type": "code",
   "execution_count": 33,
   "metadata": {},
   "outputs": [
    {
     "name": "stdout",
     "output_type": "stream",
     "text": [
      "Epoch 1/100\n",
      "45718/45718 [==============================] - 3s 61us/step - loss: 0.1408 - acc: 0.9425\n",
      "Epoch 2/100\n",
      "45718/45718 [==============================] - 3s 60us/step - loss: 0.1107 - acc: 0.9507\n",
      "Epoch 3/100\n",
      "45718/45718 [==============================] - 3s 64us/step - loss: 0.1073 - acc: 0.9522\n",
      "Epoch 4/100\n",
      "45718/45718 [==============================] - 3s 60us/step - loss: 0.1055 - acc: 0.9531\n",
      "Epoch 5/100\n",
      "45718/45718 [==============================] - 3s 62us/step - loss: 0.1037 - acc: 0.9544\n",
      "Epoch 6/100\n",
      "45718/45718 [==============================] - 3s 63us/step - loss: 0.1030 - acc: 0.9544\n",
      "Epoch 7/100\n",
      "45718/45718 [==============================] - 3s 64us/step - loss: 0.1023 - acc: 0.9544\n",
      "Epoch 8/100\n",
      "45718/45718 [==============================] - 3s 61us/step - loss: 0.1011 - acc: 0.9552\n",
      "Epoch 9/100\n",
      "45718/45718 [==============================] - 3s 64us/step - loss: 0.1004 - acc: 0.9555\n",
      "Epoch 10/100\n",
      "45718/45718 [==============================] - 3s 61us/step - loss: 0.1002 - acc: 0.9560\n",
      "Epoch 11/100\n",
      "45718/45718 [==============================] - 3s 63us/step - loss: 0.0988 - acc: 0.9567\n",
      "Epoch 12/100\n",
      "45718/45718 [==============================] - 3s 61us/step - loss: 0.0979 - acc: 0.9572\n",
      "Epoch 13/100\n",
      "45718/45718 [==============================] - 3s 63us/step - loss: 0.0973 - acc: 0.9571\n",
      "Epoch 14/100\n",
      "45718/45718 [==============================] - 3s 62us/step - loss: 0.0963 - acc: 0.9574\n",
      "Epoch 15/100\n",
      "45718/45718 [==============================] - 3s 65us/step - loss: 0.0955 - acc: 0.9576\n",
      "Epoch 16/100\n",
      "45718/45718 [==============================] - 3s 62us/step - loss: 0.0951 - acc: 0.9573\n",
      "Epoch 17/100\n",
      "45718/45718 [==============================] - 3s 61us/step - loss: 0.0950 - acc: 0.9586\n",
      "Epoch 18/100\n",
      "45718/45718 [==============================] - 3s 64us/step - loss: 0.0934 - acc: 0.9587\n",
      "Epoch 19/100\n",
      "45718/45718 [==============================] - 3s 68us/step - loss: 0.0929 - acc: 0.9586\n",
      "Epoch 20/100\n",
      "45718/45718 [==============================] - 3s 76us/step - loss: 0.0931 - acc: 0.9584\n",
      "Epoch 21/100\n",
      "45718/45718 [==============================] - 3s 64us/step - loss: 0.0923 - acc: 0.9589\n",
      "Epoch 22/100\n",
      "45718/45718 [==============================] - 3s 64us/step - loss: 0.0910 - acc: 0.9599\n",
      "Epoch 23/100\n",
      "45718/45718 [==============================] - 3s 68us/step - loss: 0.0911 - acc: 0.9599\n",
      "Epoch 24/100\n",
      "45718/45718 [==============================] - 3s 73us/step - loss: 0.0893 - acc: 0.9607\n",
      "Epoch 25/100\n",
      "45718/45718 [==============================] - 3s 64us/step - loss: 0.0897 - acc: 0.9605\n",
      "Epoch 26/100\n",
      "45718/45718 [==============================] - 3s 71us/step - loss: 0.0890 - acc: 0.9611\n",
      "Epoch 27/100\n",
      "45718/45718 [==============================] - 3s 68us/step - loss: 0.0883 - acc: 0.9613\n",
      "Epoch 28/100\n",
      "45718/45718 [==============================] - 3s 67us/step - loss: 0.0879 - acc: 0.9614\n",
      "Epoch 29/100\n",
      "45718/45718 [==============================] - 3s 74us/step - loss: 0.0875 - acc: 0.9616\n",
      "Epoch 30/100\n",
      "45718/45718 [==============================] - 3s 63us/step - loss: 0.0874 - acc: 0.9613\n",
      "Epoch 31/100\n",
      "45718/45718 [==============================] - 3s 70us/step - loss: 0.0868 - acc: 0.9620\n",
      "Epoch 32/100\n",
      "45718/45718 [==============================] - 3s 69us/step - loss: 0.0857 - acc: 0.9627\n",
      "Epoch 33/100\n",
      "45718/45718 [==============================] - 3s 66us/step - loss: 0.0857 - acc: 0.9621\n",
      "Epoch 34/100\n",
      "45718/45718 [==============================] - 4s 83us/step - loss: 0.0848 - acc: 0.9626\n",
      "Epoch 35/100\n",
      "45718/45718 [==============================] - 4s 97us/step - loss: 0.0847 - acc: 0.9628\n",
      "Epoch 36/100\n",
      "45718/45718 [==============================] - 4s 86us/step - loss: 0.0841 - acc: 0.9631\n",
      "Epoch 37/100\n",
      "45718/45718 [==============================] - 4s 78us/step - loss: 0.0832 - acc: 0.9635\n",
      "Epoch 38/100\n",
      "45718/45718 [==============================] - 3s 70us/step - loss: 0.0833 - acc: 0.9634\n",
      "Epoch 39/100\n",
      "45718/45718 [==============================] - 3s 73us/step - loss: 0.0828 - acc: 0.9641\n",
      "Epoch 40/100\n",
      "45718/45718 [==============================] - 4s 96us/step - loss: 0.0833 - acc: 0.9633\n",
      "Epoch 41/100\n",
      "45718/45718 [==============================] - 5s 101us/step - loss: 0.0815 - acc: 0.9636\n",
      "Epoch 42/100\n",
      "45718/45718 [==============================] - 4s 86us/step - loss: 0.0810 - acc: 0.9638\n",
      "Epoch 43/100\n",
      "45718/45718 [==============================] - 5s 106us/step - loss: 0.0803 - acc: 0.9644\n",
      "Epoch 44/100\n",
      "45718/45718 [==============================] - 3s 74us/step - loss: 0.0810 - acc: 0.9642\n",
      "Epoch 45/100\n",
      "45718/45718 [==============================] - 5s 106us/step - loss: 0.0800 - acc: 0.9650\n",
      "Epoch 46/100\n",
      "45718/45718 [==============================] - 5s 118us/step - loss: 0.0797 - acc: 0.9648\n",
      "Epoch 47/100\n",
      "45718/45718 [==============================] - 6s 142us/step - loss: 0.0789 - acc: 0.9650\n",
      "Epoch 48/100\n",
      "45718/45718 [==============================] - 6s 135us/step - loss: 0.0797 - acc: 0.9650\n",
      "Epoch 49/100\n",
      "45718/45718 [==============================] - 6s 139us/step - loss: 0.0785 - acc: 0.9657\n",
      "Epoch 50/100\n",
      "45718/45718 [==============================] - 5s 111us/step - loss: 0.0780 - acc: 0.9657\n",
      "Epoch 51/100\n",
      "45718/45718 [==============================] - 6s 126us/step - loss: 0.0788 - acc: 0.9662\n",
      "Epoch 52/100\n",
      "45718/45718 [==============================] - 6s 134us/step - loss: 0.0774 - acc: 0.9659\n",
      "Epoch 53/100\n",
      "45718/45718 [==============================] - 6s 130us/step - loss: 0.0769 - acc: 0.9659\n",
      "Epoch 54/100\n",
      "45718/45718 [==============================] - 4s 84us/step - loss: 0.0769 - acc: 0.9662\n",
      "Epoch 55/100\n",
      "45718/45718 [==============================] - 4s 80us/step - loss: 0.0759 - acc: 0.9664\n",
      "Epoch 56/100\n",
      "45718/45718 [==============================] - 4s 85us/step - loss: 0.0763 - acc: 0.9667\n",
      "Epoch 57/100\n",
      "45718/45718 [==============================] - 3s 72us/step - loss: 0.0761 - acc: 0.9668\n",
      "Epoch 58/100\n",
      "45718/45718 [==============================] - 4s 77us/step - loss: 0.0758 - acc: 0.9666\n",
      "Epoch 59/100\n",
      "45718/45718 [==============================] - 3s 75us/step - loss: 0.0752 - acc: 0.9674\n",
      "Epoch 60/100\n",
      "45718/45718 [==============================] - 4s 89us/step - loss: 0.0748 - acc: 0.9676\n",
      "Epoch 61/100\n",
      "45718/45718 [==============================] - 6s 131us/step - loss: 0.0754 - acc: 0.9668\n",
      "Epoch 62/100\n",
      "45718/45718 [==============================] - 6s 120us/step - loss: 0.0743 - acc: 0.9673\n",
      "Epoch 63/100\n",
      "45718/45718 [==============================] - 5s 113us/step - loss: 0.0732 - acc: 0.9678\n",
      "Epoch 64/100\n",
      "45718/45718 [==============================] - 5s 113us/step - loss: 0.0737 - acc: 0.9675\n",
      "Epoch 65/100\n",
      "45718/45718 [==============================] - 4s 89us/step - loss: 0.0738 - acc: 0.9678\n",
      "Epoch 66/100\n",
      "45718/45718 [==============================] - 5s 105us/step - loss: 0.0738 - acc: 0.9680\n",
      "Epoch 67/100\n",
      "45718/45718 [==============================] - 6s 136us/step - loss: 0.0723 - acc: 0.9683\n",
      "Epoch 68/100\n",
      "45718/45718 [==============================] - 5s 112us/step - loss: 0.0723 - acc: 0.9677\n",
      "Epoch 69/100\n",
      "45718/45718 [==============================] - 7s 148us/step - loss: 0.0731 - acc: 0.9680\n",
      "Epoch 70/100\n",
      "45718/45718 [==============================] - 6s 135us/step - loss: 0.0723 - acc: 0.9680\n",
      "Epoch 71/100\n",
      "45718/45718 [==============================] - 4s 97us/step - loss: 0.0711 - acc: 0.9687\n",
      "Epoch 72/100\n",
      "45718/45718 [==============================] - 4s 90us/step - loss: 0.0721 - acc: 0.9687\n",
      "Epoch 73/100\n",
      "45718/45718 [==============================] - 4s 98us/step - loss: 0.0714 - acc: 0.9687\n",
      "Epoch 74/100\n",
      "45718/45718 [==============================] - 4s 95us/step - loss: 0.0709 - acc: 0.9687\n",
      "Epoch 75/100\n",
      "45718/45718 [==============================] - 4s 96us/step - loss: 0.0708 - acc: 0.9687\n",
      "Epoch 76/100\n",
      "45718/45718 [==============================] - 5s 101us/step - loss: 0.0699 - acc: 0.9687\n",
      "Epoch 77/100\n",
      "45718/45718 [==============================] - 4s 94us/step - loss: 0.0712 - acc: 0.9695\n",
      "Epoch 78/100\n",
      "45718/45718 [==============================] - 4s 85us/step - loss: 0.0733 - acc: 0.9685\n",
      "Epoch 79/100\n",
      "45718/45718 [==============================] - 4s 80us/step - loss: 0.0713 - acc: 0.9690\n",
      "Epoch 80/100\n",
      "45718/45718 [==============================] - 5s 110us/step - loss: 0.0698 - acc: 0.9693\n",
      "Epoch 81/100\n"
     ]
    },
    {
     "name": "stdout",
     "output_type": "stream",
     "text": [
      "45718/45718 [==============================] - 4s 96us/step - loss: 0.0684 - acc: 0.9695\n",
      "Epoch 82/100\n",
      "45718/45718 [==============================] - 4s 86us/step - loss: 0.0700 - acc: 0.9689\n",
      "Epoch 83/100\n",
      "45718/45718 [==============================] - 4s 78us/step - loss: 0.0691 - acc: 0.9696\n",
      "Epoch 84/100\n",
      "45718/45718 [==============================] - 4s 94us/step - loss: 0.0688 - acc: 0.9694\n",
      "Epoch 85/100\n",
      "45718/45718 [==============================] - 5s 110us/step - loss: 0.0695 - acc: 0.9690\n",
      "Epoch 86/100\n",
      "45718/45718 [==============================] - 5s 106us/step - loss: 0.0695 - acc: 0.9692\n",
      "Epoch 87/100\n",
      "45718/45718 [==============================] - 4s 85us/step - loss: 0.0682 - acc: 0.9699\n",
      "Epoch 88/100\n",
      "45718/45718 [==============================] - 4s 82us/step - loss: 0.0680 - acc: 0.9700\n",
      "Epoch 89/100\n",
      "45718/45718 [==============================] - 4s 80us/step - loss: 0.0688 - acc: 0.9699\n",
      "Epoch 90/100\n",
      "45718/45718 [==============================] - 3s 70us/step - loss: 0.0676 - acc: 0.9703\n",
      "Epoch 91/100\n",
      "45718/45718 [==============================] - 4s 77us/step - loss: 0.0704 - acc: 0.9694\n",
      "Epoch 92/100\n",
      "45718/45718 [==============================] - 3s 69us/step - loss: 0.0680 - acc: 0.9700\n",
      "Epoch 93/100\n",
      "45718/45718 [==============================] - 3s 76us/step - loss: 0.0675 - acc: 0.9705\n",
      "Epoch 94/100\n",
      "45718/45718 [==============================] - 3s 74us/step - loss: 0.0660 - acc: 0.9702\n",
      "Epoch 95/100\n",
      "45718/45718 [==============================] - 3s 71us/step - loss: 0.0672 - acc: 0.9703\n",
      "Epoch 96/100\n",
      "45718/45718 [==============================] - 4s 82us/step - loss: 0.0694 - acc: 0.9700\n",
      "Epoch 97/100\n",
      "45718/45718 [==============================] - 4s 80us/step - loss: 0.0665 - acc: 0.9708\n",
      "Epoch 98/100\n",
      "45718/45718 [==============================] - 4s 86us/step - loss: 0.0664 - acc: 0.9705\n",
      "Epoch 99/100\n",
      "45718/45718 [==============================] - 3s 76us/step - loss: 0.0655 - acc: 0.9715\n",
      "Epoch 100/100\n",
      "45718/45718 [==============================] - 4s 86us/step - loss: 0.0658 - acc: 0.9705\n"
     ]
    },
    {
     "data": {
      "text/plain": [
       "<keras.callbacks.History at 0x7f7e8b622a90>"
      ]
     },
     "execution_count": 33,
     "metadata": {},
     "output_type": "execute_result"
    }
   ],
   "source": [
    "model.fit(x_pca, y, epochs=100, batch_size=20)"
   ]
  },
  {
   "cell_type": "code",
   "execution_count": 34,
   "metadata": {},
   "outputs": [],
   "source": [
    "np.set_printoptions(suppress=True)\n",
    "df2=pd.read_csv('criminal_test.csv')\n",
    "scaler.fit(df2.drop(['100100'],axis=1))\n",
    "scaled_features1 = scaler.transform(df2.drop(['100100'],axis=1))\n",
    "X_test = pd.DataFrame(scaled_features1,columns=df2.columns[1:71])"
   ]
  },
  {
   "cell_type": "code",
   "execution_count": 35,
   "metadata": {},
   "outputs": [],
   "source": [
    "pca = PCA(n_components=48)\n",
    "pca.fit(X_test)\n",
    "xt_pca = pca.transform(X_test)"
   ]
  },
  {
   "cell_type": "code",
   "execution_count": 36,
   "metadata": {},
   "outputs": [],
   "source": [
    "pre=model.predict(xt_pca)\n"
   ]
  },
  {
   "cell_type": "code",
   "execution_count": 37,
   "metadata": {},
   "outputs": [],
   "source": [
    "pre2=[]\n",
    "for i in range(11430):\n",
    "    if (pre[i]<0.8):\n",
    "        pre2.append(int(0))\n",
    "    else:\n",
    "        pre2.append(int(1) )\n",
    "\n",
    "        "
   ]
  },
  {
   "cell_type": "code",
   "execution_count": 38,
   "metadata": {},
   "outputs": [],
   "source": [
    "df2 = df2.rename(columns={'100100': 'PERID'})\n",
    "dataframe1=df2\n",
    "dataframe1['Criminal']=pre2\n",
    "db=dataframe1.iloc[:,[0,71]]\n",
    "#pd.read_csv('prediction.csv')\n",
    "db.to_csv('test_Predictions.csv',index=None)"
   ]
  },
  {
   "cell_type": "code",
   "execution_count": null,
   "metadata": {},
   "outputs": [],
   "source": []
  }
 ],
 "metadata": {
  "kernelspec": {
   "display_name": "Python 2",
   "language": "python",
   "name": "python2"
  },
  "language_info": {
   "codemirror_mode": {
    "name": "ipython",
    "version": 2
   },
   "file_extension": ".py",
   "mimetype": "text/x-python",
   "name": "python",
   "nbconvert_exporter": "python",
   "pygments_lexer": "ipython2",
   "version": "2.7.14"
  }
 },
 "nbformat": 4,
 "nbformat_minor": 2
}
